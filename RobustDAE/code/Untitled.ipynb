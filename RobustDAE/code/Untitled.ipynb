{
 "cells": [
  {
   "cell_type": "code",
   "execution_count": 3,
   "metadata": {},
   "outputs": [],
   "source": [
    "import numpy as np\n",
    "import numpy.linalg as nplin\n",
    "import os\n",
    "import torch\n",
    "import torch.nn as nn\n",
    "import torch.optim as optim\n",
    "import tensorboardX\n",
    "import torch.utils.data as data\n",
    "\n",
    "from shrink import l1shrink\n",
    "from util import *\n",
    "from networks import *\n",
    "# from dae import DAE\n",
    "from dset import PartialMNIST\n",
    "from torchvision import datasets, transforms\n",
    "\n",
    "import matplotlib.pyplot as plt\n",
    "%matplotlib inline"
   ]
  },
  {
   "cell_type": "code",
   "execution_count": 4,
   "metadata": {},
   "outputs": [],
   "source": [
    "a = torch.ones((4, 784))"
   ]
  },
  {
   "cell_type": "code",
   "execution_count": 8,
   "metadata": {},
   "outputs": [
    {
     "data": {
      "text/plain": [
       "784"
      ]
     },
     "execution_count": 8,
     "metadata": {},
     "output_type": "execute_result"
    }
   ],
   "source": [
    "len(torch.norm(a, dim=0))"
   ]
  },
  {
   "cell_type": "code",
   "execution_count": 10,
   "metadata": {},
   "outputs": [
    {
     "data": {
      "text/plain": [
       "True"
      ]
     },
     "execution_count": 10,
     "metadata": {},
     "output_type": "execute_result"
    }
   ],
   "source": [
    "aa = 'abcd'\n",
    "b = 'a'\n",
    "b in aa"
   ]
  },
  {
   "cell_type": "code",
   "execution_count": null,
   "metadata": {},
   "outputs": [],
   "source": []
  },
  {
   "cell_type": "code",
   "execution_count": null,
   "metadata": {},
   "outputs": [],
   "source": [
    "class arguments():\n",
    "    def __init__(self):\n",
    "        self.datadir='/home/jehyuk/PycharmProjects/RobustDAE/'\n",
    "        self.data='mnist'\n",
    "        self.image_ch=1\n",
    "        # Model arguments\n",
    "        self.model='dae'\n",
    "        self.image_size=28\n",
    "        self.n_ch=64\n",
    "        self.dims=[784,200,20]\n",
    "        self.kernels=[4,4,4,4]\n",
    "        self.strides=[1,1,1,1]\n",
    "        self.paddings=[0,0,0,0]\n",
    "        self.out_act_fn='sigmoid'\n",
    "        self.act_fn='relu'\n",
    "        self.use_fc=False\n",
    "        self.embed_dim=20\n",
    "        self.bias=True\n",
    "        #Train arguments\n",
    "        self.batch_size=64\n",
    "        self.lr = 0.0001\n",
    "        self.n_corrupt_rows=5\n",
    "        self.n_corrupt_cols=5\n",
    "        self.noise_method=None\n",
    "        self.n_workers=10\n",
    "        self.device_num=0\n",
    "        self.multi_gpus=[0]\n",
    "        self.inner_epochs=2000\n",
    "        self.outer_epochs=20\n",
    "        self.log_dir='/home/jehyuk/PycharmProjects/RobustDAE/logs'\n",
    "        self.save_dir='/home/jehyuk/PycharmProjects/RobustDAE/models'\n",
    "        self.result_dir='/home/jehyuk/PycharmProjects/RobustDAE/results'\n",
    "        self.mode='train'\n",
    "        self.save=False\n",
    "        self.load=False\n"
   ]
  },
  {
   "cell_type": "code",
   "execution_count": null,
   "metadata": {},
   "outputs": [],
   "source": [
    "args = arguments()"
   ]
  },
  {
   "cell_type": "code",
   "execution_count": null,
   "metadata": {},
   "outputs": [],
   "source": [
    "device = torch.device(f'cuda:{args.device_num}')"
   ]
  },
  {
   "cell_type": "code",
   "execution_count": null,
   "metadata": {},
   "outputs": [],
   "source": [
    "class DAE(nn.Module):\n",
    "    def __init__(self, args, device):\n",
    "        super(DAE, self).__init__()\n",
    "        self.args = args\n",
    "        self.device = device\n",
    "        self.encoder = Encoder(args).to(device)\n",
    "        self.decoder = Decoder(args).to(device)\n",
    "        self.loss_func = nn.MSELoss(reduction='none')\n",
    "        params = list(self.encoder.parameters()) + list(self.decoder.parameters())\n",
    "        self.opt = optim.Adam(params=params, lr=args.lr, betas=(0.5, 0.999))\n",
    "        \n",
    "    def initialize_param(self):\n",
    "        self.encoder.apply(initialize_weights)\n",
    "        self.decoder.apply(initialize_weights)\n",
    "    \n",
    "    def fit(self, trn_loader):\n",
    "        writer = tensorboardX.SummaryWriter(self.args.log_dir)\n",
    "        for epoch in range(self.args.inner_epochs):\n",
    "            self.encoder.train()\n",
    "            self.decoder.train()\n",
    "            trn_loss = self.partial_fit(trn_loader)\n",
    "            if (epoch + 1) % 20 == 0:\n",
    "                writer.add_scalar('trn_loss', trn_loss, global_step=epoch)\n",
    "                print(f\"In epoch {epoch + 1}, trn_loss = {trn_loss:.4f}\")\n",
    "\n",
    "    def partial_fit(self, trn_loader):\n",
    "        for idx, (image, label) in enumerate(trn_loader):\n",
    "            image, label = image.to(self.device), label.to(self.device)\n",
    "            image_recon = self.reconstruct(image)\n",
    "            trn_loss = torch.sum(self.loss_func(image_recon, image), dim=(0, 1, 2, 3)) / image.size()[0]\n",
    "            self.opt.zero_grad()\n",
    "            trn_loss.backward()\n",
    "            self.opt.step()\n",
    "            return trn_loss\n",
    "\n",
    "    def get_embedding_vector(self, x):\n",
    "        if x.is_cuda and len(self.args.multi_gpus) > 1:\n",
    "            out = nn.parallel.data_parallel(self.encoder, x, device_ids=self.args.multi_gpus)\n",
    "        else:\n",
    "            out = self.encoder(x)\n",
    "        return out\n",
    "\n",
    "    def reconstruct(self, x):\n",
    "        if x.is_cuda and len(self.args.multi_gpus) > 1:\n",
    "            z = nn.parallel.data_parallel(self.encoder, x, device_ids=self.args.multi_gpus)\n",
    "            x_recon = nn.parallel.data_parallel(self.decoder, z, device_ids=self.args.multi_gpus)\n",
    "        else:\n",
    "            z = self.encoder(x)\n",
    "            x_recon = self.decoder(z)\n",
    "        return x_recon\n",
    "\n",
    "    def save_model(self, save_path=None):\n",
    "        if save_path is None:\n",
    "            save_path = self.args.save_dir\n",
    "        torch.save(self.encoder.state_dict(), os.path.join(save_path, 'encoder.pkl'))\n",
    "        torch.save(self.decoder.state_dict(), os.path.join(save_path, 'decoder.pkl'))\n",
    "        print('Save model!')\n",
    "\n",
    "    def load_model(self, save_path=None):\n",
    "        if save_path is None:\n",
    "            save_path = self.args.save_dir\n",
    "        self.encoder.load_state_dict(torch.load(os.path.join(save_path, 'encoder.pkl')))\n",
    "        self.decoder.load_state_dict(torch.load(os.path.join(save_path, 'decoder.pkl')))"
   ]
  },
  {
   "cell_type": "code",
   "execution_count": null,
   "metadata": {},
   "outputs": [],
   "source": [
    "class CDAE(nn.Module):\n",
    "    def __init__(self, args, device):\n",
    "        super(CDAE, self).__init__()\n",
    "        self.args = args\n",
    "        self.device = device\n",
    "        self.encoder = Encoder_conv2d(args).to(self.device)\n",
    "        embed_w, embed_h = args.image_size, args.image_size\n",
    "        for i in range(len(args.kernels)):\n",
    "            embed_w, embed_h = conv2d_output_size(embed_w, embed_h, args.kernels[i], args.kernels[i], args.strides[i],\n",
    "                                                  args.paddings[i])\n",
    "        self.decoder = Decoder_conv2d(args, embed_w, embed_h, out_act_fn=None).to(self.device)\n",
    "        self.device = device\n",
    "        self.loss_func = nn.MSELoss(reduction='none')\n",
    "        params = list(self.encoder.parameters()) + list(self.decoder.parameters())\n",
    "        self.opt = optim.Adam(params=params, lr=0.001, betas=(0.5, 0.999))\n",
    "        \n",
    "    def initialize_param(self):\n",
    "        self.encoder.apply(initialize_weights)\n",
    "        self.decoder.apply(initialize_weights)\n",
    "    \n",
    "    def fit(self, trn_loader):\n",
    "        writer = tensorboardX.SummaryWriter(self.args.log_dir)\n",
    "        for epoch in range(self.args.max_epochs):\n",
    "            self.encoder.train()\n",
    "            self.decoder.train()\n",
    "            trn_loss = self.partial_fit(trn_loader)\n",
    "            if (epoch + 1) % 20 == 0:\n",
    "                writer.add_scalar('trn_loss', trn_loss, global_step=epoch)\n",
    "                print(f\"In epoch {epoch + 1}, trn_loss = {trn_loss:.4f}\")\n",
    "\n",
    "    def partial_fit(self, trn_loader):\n",
    "        for idx, (image, label) in enumerate(trn_loader):\n",
    "            image, label = image.to(self.device), label.to(self.device)\n",
    "            image_recon = self.reconstruct(image)\n",
    "            trn_loss = torch.sum(self.loss_func(image_recon, image), dim=(0, 1, 2, 3)) / image.size()[0]\n",
    "            self.opt.zero_grad()\n",
    "            trn_loss.backward()\n",
    "            self.opt.step()\n",
    "            return trn_loss\n",
    "\n",
    "    def get_embedding_vector(self, x):\n",
    "        if x.is_cuda and len(self.args.multi_gpus) > 1:\n",
    "            out = nn.parallel.data_parallel(self.encoder, x, device_ids=self.args.multi_gpus)\n",
    "        else:\n",
    "            out = self.encoder(x)\n",
    "        return out\n",
    "\n",
    "    def reconstruct(self, x):\n",
    "        if x.is_cuda and len(self.args.multi_gpus) > 1:\n",
    "            z = nn.parallel.data_parallel(self.encoder, x, device_ids=self.args.multi_gpus)\n",
    "            x_recon = nn.parallel.data_parallel(self.decoder, z, device_ids=self.args.multi_gpus)\n",
    "        else:\n",
    "            z = self.encoder(x)\n",
    "            x_recon = self.decoder(z)\n",
    "        return x_recon\n",
    "\n",
    "    def save_model(self, save_path=None):\n",
    "        if save_path is None:\n",
    "            save_path = self.args.save_dir\n",
    "        torch.save(self.encoder.state_dict(), os.path.join(save_path, 'encoder.pkl'))\n",
    "        torch.save(self.decoder.state_dict(), os.path.join(save_path, 'decoder.pkl'))\n",
    "        print('Save model!')\n",
    "\n",
    "    def load_model(self, save_path=None):\n",
    "        if save_path is None:\n",
    "            save_path = self.args.save_dir\n",
    "        self.encoder.load_state_dict(torch.load(os.path.join(save_path, 'encoder.pkl')))\n",
    "        self.decoder.load_state_dict(torch.load(os.path.join(save_path, 'decoder.pkl')))"
   ]
  },
  {
   "cell_type": "code",
   "execution_count": null,
   "metadata": {},
   "outputs": [],
   "source": [
    "trn_class_dict = dict()\n",
    "trn_class_dict[0] = 2000\n",
    "trn_class_dict[1] = 2000\n",
    "trn_class_dict[2] = 2000\n",
    "trn_class_dict[3] = 2000\n",
    "trn_class_dict[4] = 2000\n",
    "trn_class_dict[5] = 2000\n",
    "trn_class_dict[6] = 2000\n",
    "trn_class_dict[7] = 2000\n",
    "trn_class_dict[8] = 2000\n",
    "trn_class_dict[9] = 2000"
   ]
  },
  {
   "cell_type": "code",
   "execution_count": null,
   "metadata": {},
   "outputs": [],
   "source": [
    "noise = torch.zeros((2,6,5))"
   ]
  },
  {
   "cell_type": "code",
   "execution_count": null,
   "metadata": {},
   "outputs": [],
   "source": [
    "noise"
   ]
  },
  {
   "cell_type": "code",
   "execution_count": null,
   "metadata": {},
   "outputs": [],
   "source": [
    "noise[0] + noise[1]"
   ]
  },
  {
   "cell_type": "code",
   "execution_count": null,
   "metadata": {},
   "outputs": [],
   "source": [
    "for i in [1,2,4]:\n",
    "    for j in [1,2,4]:\n",
    "        noise[:, i, j] = torch.rand(2)"
   ]
  },
  {
   "cell_type": "code",
   "execution_count": null,
   "metadata": {},
   "outputs": [],
   "source": [
    "noise"
   ]
  },
  {
   "cell_type": "code",
   "execution_count": null,
   "metadata": {},
   "outputs": [],
   "source": []
  },
  {
   "cell_type": "code",
   "execution_count": null,
   "metadata": {},
   "outputs": [],
   "source": [
    "class Noise(object):\n",
    "    def __init__(self, corrupt_col_idx = [1,2,3,4,5], corrupt_row_idx = [x for x in range(1,6)], method='fixed'):\n",
    "        self.corrupt_col_idx = corrupt_col_idx\n",
    "        self.corrupt_row_idx = corrupt_row_idx\n",
    "        self.method = method\n",
    "        \n",
    "    def __call__(self, sample):\n",
    "        if self.method == 'fixed':\n",
    "            for col in self.corrupt_col_idx:\n",
    "                sample[:,:,col] = torch.rand(1)\n",
    "        elif self.method == 'uniform':\n",
    "            for col in self.corrupt_col_idx:\n",
    "                for row in self.corrupt_row_idx:\n",
    "                    sample[:,row,col] = torch.rand(1)\n",
    "#         elif self.method == 'gaussian':\n",
    "#             for col in self.corrupt_col_idx:\n",
    "#                 for row in self.corrupt_row_idx:\n",
    "#                     sample[:,row,col] = torch.randn(1)\n",
    "        else:\n",
    "            raise ValueError('Enter the proper noise method')\n",
    "        \n",
    "        return sample"
   ]
  },
  {
   "cell_type": "code",
   "execution_count": null,
   "metadata": {},
   "outputs": [],
   "source": [
    "class NewDataset(data.Dataset):\n",
    "    def __init__(self, tensor_x, tensor_y, transform = None):\n",
    "        self.tensor_x = tensor_x.view(-1, 1, 28, 28)\n",
    "        self.tensor_y = tensor_y\n",
    "        self.transform = transform\n",
    "    \n",
    "    def __len__(self):\n",
    "        return len(self.tensor_x)\n",
    "    \n",
    "    def __getitem__(self, idx):\n",
    "        return self.tensor_x[idx], self.tensor_y[idx]"
   ]
  },
  {
   "cell_type": "code",
   "execution_count": null,
   "metadata": {},
   "outputs": [],
   "source": [
    "trn_dset = PartialMNIST(root = '/home/jehyuk/PycharmProjects/RobustDAE/', sample_dict = trn_class_dict, train=True, download=True, \n",
    "                        transform = transforms.Compose([transforms.ToTensor(), Noise(method='uniform')]))\n",
    "# trn_dset = PartialMNIST(root = '/home/jehyuk/PycharmProjects/RobustDAE/', sample_dict = trn_class_dict, train=True, download=True, \n",
    "#                         transform = transforms.Compose([transforms.ToTensor(), Noise(method='fixed'),\n",
    "#                                                         transforms.Normalize((0.5, 0.5, 0.5), (0.5, 0.5, 0.5))]))"
   ]
  },
  {
   "cell_type": "code",
   "execution_count": null,
   "metadata": {},
   "outputs": [],
   "source": [
    "class RCDAE(nn.Module):\n",
    "    def __init__(self, args, device, lambda_=1.0, tol=1e-7):\n",
    "        super(RCDAE, self).__init__()\n",
    "        self.args = args\n",
    "        self.device = device\n",
    "        self.lambda_ = lambda_\n",
    "        self.tol = tol\n",
    "        self.ae = CDAE(args, device)\n",
    "    \n",
    "    def make_loader(self, dset, rdae=True):\n",
    "        if rdae:\n",
    "            loader = torch.utils.data.DataLoader(dset, batch_size = self.args.batch_size, \n",
    "                                                 shuffle=False, num_workers = 0, drop_last = False)\n",
    "        else:\n",
    "            loader = torch.utils.data.DataLoader(dset, batch_size = self.args.batch_size, \n",
    "                                                 shuffle=True, num_workers = self.args.n_workers, drop_last = True)\n",
    "        return loader\n",
    "    \n",
    "    def get_flatX(self, loader):\n",
    "        image_list, label_list = list(), list()\n",
    "        for _, (image, label) in enumerate(loader):\n",
    "            image, label = image.to(self.device), label.to(self.device)\n",
    "            image_list.append(image)\n",
    "            label_list.append(label)\n",
    "        flat_images = torch.cat([x.flatten(start_dim=1) for x in image_list], dim=0)\n",
    "        labels = torch.cat([x for x in label_list])\n",
    "\n",
    "        return flat_images, labels\n",
    "    \n",
    "    def get_flat_recon_X(self, loader):\n",
    "        recon_list, label_list = list(), list()\n",
    "        for _, (image, label) in enumerate(loader):\n",
    "            image, label = image.to(self.device), label.to(self.device)\n",
    "            recon = self.ae.reconstruct(image)\n",
    "            recon_list.append(recon)\n",
    "            label_list.append(label)\n",
    "        flat_images = torch.cat([x.flatten(start_dim=1) for x in recon_list], dim=0)\n",
    "        labels = torch.cat([x for x in label_list])\n",
    "        \n",
    "        return flat_images, labels\n",
    "    \n",
    "    def fit(self, trn_dset, verbose=True):\n",
    "        # Make data loader\n",
    "        rdae_loader = self.make_loader(trn_dset, rdae=True)\n",
    "        # Make flat data\n",
    "        X, Y = self.get_flatX(rdae_loader)\n",
    "        # Make L and S\n",
    "        L = torch.zeros((X.size()[0], X.size()[1])).to(self.device)\n",
    "        S = torch.zeros((X.size()[0], X.size()[1])).to(self.device)\n",
    "        mu = (X.size()[0] * X.size()[1]) / torch.norm(X, 1)\n",
    "        print(f'shrink param: {self.lambda_ / mu}')\n",
    "        LS0 = L + S\n",
    "        XFnorm = torch.norm(X, 'fro')\n",
    "        for i in range(self.args.outer_epochs):\n",
    "            print(f\">>{i+1}th epoch\")\n",
    "            L = X - S\n",
    "            trn_dset = NewDataset(L.cpu(), Y.cpu())\n",
    "            trn_loader = self.make_loader(trn_dset, rdae=False)\n",
    "            print('>>>>start train ae')\n",
    "            self.ae.fit(trn_loader)\n",
    "            print('>>>>end train ae')\n",
    "            L = self.ae.reconstruct(L)\n",
    "            L = L.flatten(start_dim = 1)\n",
    "            S = X-L\n",
    "            S = shrink(self.lambda_ / mu, S, device)\n",
    "#             S = shrink(self.lambda_/mu, S.view(X.size()[0], X.size()[1])).view(X.size()[0], X.size()[1])\n",
    "            \n",
    "            c1 = torch.norm(X-L-S, 'fro') / XFnorm\n",
    "#             c2 = np.min([mu, np.sqrt(mu)]) * torch.norm(LS0 - L-S) / XFnorm\n",
    "            c2 = mu * torch.norm(LS0 - L-S) / XFnorm\n",
    "            \n",
    "            self.L, self.S = L, S\n",
    "            if verbose:\n",
    "                print(f\"c1: {c1:.4f}, c2: {c2:.4f}\")\n",
    "            if c1 < self.tol and c2 < self.tol:\n",
    "                print(\"Early break\")\n",
    "                break\n",
    "            LS0 = L + S\n",
    "            \n",
    "        return self.L, self.S\n",
    "    \n",
    "    def transform(self, x):\n",
    "        L = x - self.S\n",
    "        return self.ae.get_embedding_vector(L)\n",
    "        \n",
    "    def reconstruct(self, x):\n",
    "        return self.ae.reconstruct(x)"
   ]
  },
  {
   "cell_type": "code",
   "execution_count": null,
   "metadata": {},
   "outputs": [],
   "source": [
    "trn_loader = torch.utils.data.DataLoader(trn_dset, batch_size = args.batch_size, shuffle=True, num_workers = args.n_workers, drop_last = True)"
   ]
  },
  {
   "cell_type": "code",
   "execution_count": null,
   "metadata": {},
   "outputs": [],
   "source": [
    "cdae = CDAE(args, device)"
   ]
  },
  {
   "cell_type": "code",
   "execution_count": null,
   "metadata": {},
   "outputs": [],
   "source": []
  },
  {
   "cell_type": "code",
   "execution_count": null,
   "metadata": {},
   "outputs": [],
   "source": []
  },
  {
   "cell_type": "code",
   "execution_count": null,
   "metadata": {},
   "outputs": [],
   "source": [
    "class RDAE(nn.Module):\n",
    "    def __init__(self, args, device, lambda_=1.0, tol=1e-7):\n",
    "        super(RDAE, self).__init__()\n",
    "        self.args = args\n",
    "        self.device = device\n",
    "        self.lambda_ = lambda_\n",
    "        self.tol = tol\n",
    "        self.ae = DAE(args, device)\n",
    "    \n",
    "    def make_loader(self, dset, rdae=True):\n",
    "        if rdae:\n",
    "            loader = torch.utils.data.DataLoader(dset, batch_size = self.args.batch_size, \n",
    "                                                 shuffle=False, num_workers = 0, drop_last = False)\n",
    "        else:\n",
    "            loader = torch.utils.data.DataLoader(dset, batch_size = self.args.batch_size, \n",
    "                                                 shuffle=True, num_workers = self.args.n_workers, drop_last = True)\n",
    "        return loader\n",
    "    \n",
    "    def get_flatX(self, loader):\n",
    "        image_list, label_list = list(), list()\n",
    "        for _, (image, label) in enumerate(loader):\n",
    "            image, label = image.to(self.device), label.to(self.device)\n",
    "            image_list.append(image)\n",
    "            label_list.append(label)\n",
    "        flat_images = torch.cat([x.flatten(start_dim=1) for x in image_list], dim=0)\n",
    "        labels = torch.cat([x for x in label_list])\n",
    "\n",
    "        return flat_images, labels\n",
    "    \n",
    "    def get_flat_recon_X(self, loader):\n",
    "        recon_list, label_list = list(), list()\n",
    "        for _, (image, label) in enumerate(loader):\n",
    "            image, label = image.to(self.device), label.to(self.device)\n",
    "            recon = self.ae.reconstruct(image)\n",
    "            recon_list.append(recon)\n",
    "            label_list.append(label)\n",
    "        flat_images = torch.cat([x.flatten(start_dim=1) for x in recon_list], dim=0)\n",
    "        labels = torch.cat([x for x in label_list])\n",
    "        \n",
    "        return flat_images, labels\n",
    "    \n",
    "    def fit(self, trn_dset, verbose=True):\n",
    "        # Make data loader\n",
    "        rdae_loader = self.make_loader(trn_dset, rdae=True)\n",
    "        # Make flat data\n",
    "        X, Y = self.get_flatX(rdae_loader)\n",
    "        # Make L and S\n",
    "        L = torch.zeros((X.size()[0], X.size()[1])).to(self.device)\n",
    "        S = torch.zeros((X.size()[0], X.size()[1])).to(self.device)\n",
    "        mu = (X.size()[0] * X.size()[1]) / torch.norm(X, 1)\n",
    "        print(f'shrink param: {self.lambda_ / mu}')\n",
    "        LS0 = L + S\n",
    "        XFnorm = torch.norm(X, 'fro')\n",
    "        for i in range(self.args.outer_epochs):\n",
    "            print(f\">>{i+1}th epoch\")\n",
    "            L = X - S\n",
    "            trn_dset = NewDataset(L.cpu(), Y.cpu())\n",
    "            trn_loader = self.make_loader(trn_dset, rdae=False)\n",
    "            print('>>>>start train ae')\n",
    "            self.ae.fit(trn_loader)\n",
    "            print('>>>>end train ae')\n",
    "            L = self.ae.reconstruct(L)\n",
    "            L = L.flatten(start_dim = 1)\n",
    "            S = X-L\n",
    "            S = shrink(self.lambda_ / mu, S, device)\n",
    "#             S = shrink(self.lambda_/mu, S.view(X.size()[0], X.size()[1])).view(X.size()[0], X.size()[1])\n",
    "            \n",
    "            c1 = torch.norm(X-L-S, 'fro') / XFnorm\n",
    "#             c2 = np.min([mu, np.sqrt(mu)]) * torch.norm(LS0 - L-S) / XFnorm\n",
    "            c2 = mu * torch.norm(LS0 - L-S) / XFnorm\n",
    "            \n",
    "            self.L, self.S = L, S\n",
    "            if verbose:\n",
    "                print(f\"c1: {c1:.4f}, c2: {c2:.4f}\")\n",
    "            if c1 < self.tol and c2 < self.tol:\n",
    "                print(\"Early break\")\n",
    "                break\n",
    "            LS0 = L + S\n",
    "            \n",
    "        return self.L, self.S\n",
    "    \n",
    "    def transform(self, x):\n",
    "        L = x - self.S\n",
    "        return self.ae.get_embedding_vector(L)\n",
    "        \n",
    "    def reconstruct(self, x):\n",
    "        return self.ae.reconstruct(x)"
   ]
  },
  {
   "cell_type": "code",
   "execution_count": null,
   "metadata": {},
   "outputs": [],
   "source": [
    "rdae = RDAE(args, device)"
   ]
  },
  {
   "cell_type": "code",
   "execution_count": null,
   "metadata": {
    "scrolled": true
   },
   "outputs": [],
   "source": [
    "rdae.fit(trn_dset)"
   ]
  },
  {
   "cell_type": "code",
   "execution_count": null,
   "metadata": {},
   "outputs": [],
   "source": [
    "tmp_loader = torch.utils.data.DataLoader(trn_dset, batch_size = 10, \n",
    "                                         shuffle=False, num_workers = 0, drop_last = False)"
   ]
  },
  {
   "cell_type": "code",
   "execution_count": null,
   "metadata": {},
   "outputs": [],
   "source": [
    "for i, (image, label) in enumerate(tmp_loader):\n",
    "    image_idx = 7\n",
    "    image = image.to(device)\n",
    "    recon = rdae.ae.reconstruct(image)\n",
    "    x = image[image_idx].cpu()\n",
    "    x_recon = recon[image_idx].cpu().detach()\n",
    "    if i == 0:\n",
    "        break"
   ]
  },
  {
   "cell_type": "code",
   "execution_count": null,
   "metadata": {},
   "outputs": [],
   "source": [
    "plt.imshow(x.squeeze())\n",
    "plt.colorbar()"
   ]
  },
  {
   "cell_type": "code",
   "execution_count": null,
   "metadata": {},
   "outputs": [],
   "source": [
    "plt.imshow(x_recon.squeeze())\n",
    "plt.colorbar()"
   ]
  },
  {
   "cell_type": "code",
   "execution_count": null,
   "metadata": {},
   "outputs": [],
   "source": [
    "dae = DAE(args, device)"
   ]
  },
  {
   "cell_type": "code",
   "execution_count": null,
   "metadata": {},
   "outputs": [],
   "source": [
    "trn_loader = torch.utils.data.DataLoader(trn_dset, batch_size = args.batch_size, shuffle=True, num_workers = args.n_workers, drop_last = True)"
   ]
  },
  {
   "cell_type": "code",
   "execution_count": null,
   "metadata": {
    "scrolled": true
   },
   "outputs": [],
   "source": [
    "dae.fit(trn_loader)"
   ]
  },
  {
   "cell_type": "code",
   "execution_count": null,
   "metadata": {},
   "outputs": [],
   "source": [
    "tmp_loader = torch.utils.data.DataLoader(trn_dset, batch_size = 10, \n",
    "                                         shuffle=False, num_workers = 0, drop_last = False)"
   ]
  },
  {
   "cell_type": "code",
   "execution_count": null,
   "metadata": {},
   "outputs": [],
   "source": [
    "for i, (image, label) in enumerate(tmp_loader):\n",
    "    image_idx = 9\n",
    "    image = image.to(device)\n",
    "    recon = dae.reconstruct(image)\n",
    "    x = image[image_idx].cpu()\n",
    "    x_recon = recon[image_idx].cpu().detach()\n",
    "    if i == 0:\n",
    "        break"
   ]
  },
  {
   "cell_type": "code",
   "execution_count": null,
   "metadata": {},
   "outputs": [],
   "source": [
    "plt.imshow(x.squeeze())\n",
    "plt.colorbar()"
   ]
  },
  {
   "cell_type": "code",
   "execution_count": null,
   "metadata": {},
   "outputs": [],
   "source": [
    "plt.imshow(x_recon.squeeze())\n",
    "plt.colorbar()"
   ]
  },
  {
   "cell_type": "code",
   "execution_count": null,
   "metadata": {},
   "outputs": [],
   "source": []
  }
 ],
 "metadata": {
  "kernelspec": {
   "display_name": "Python 3",
   "language": "python",
   "name": "python3"
  },
  "language_info": {
   "codemirror_mode": {
    "name": "ipython",
    "version": 3
   },
   "file_extension": ".py",
   "mimetype": "text/x-python",
   "name": "python",
   "nbconvert_exporter": "python",
   "pygments_lexer": "ipython3",
   "version": "3.6.7"
  }
 },
 "nbformat": 4,
 "nbformat_minor": 2
}
